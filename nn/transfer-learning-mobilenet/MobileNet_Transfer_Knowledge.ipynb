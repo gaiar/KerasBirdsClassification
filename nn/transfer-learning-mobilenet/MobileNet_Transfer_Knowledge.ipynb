{
  "nbformat": 4,
  "nbformat_minor": 0,
  "metadata": {
    "colab": {
      "name": "MobileNet_Transfer_Knowledge.ipynb",
      "version": "0.3.2",
      "provenance": [],
      "collapsed_sections": []
    },
    "kernelspec": {
      "name": "python3",
      "display_name": "Python 3"
    },
    "accelerator": "GPU"
  },
  "cells": [
    {
      "metadata": {
        "id": "vmeTw3qPiCgA",
        "colab_type": "code",
        "outputId": "10ddf80c-e67c-4cb7-eb4c-bfe7058be633",
        "colab": {
          "base_uri": "https://localhost:8080/",
          "height": 34
        }
      },
      "cell_type": "code",
      "source": [
        "from google.colab import drive\n",
        "drive.mount('/content/drive')"
      ],
      "execution_count": 0,
      "outputs": [
        {
          "output_type": "stream",
          "text": [
            "Drive already mounted at /content/drive; to attempt to forcibly remount, call drive.mount(\"/content/drive\", force_remount=True).\n"
          ],
          "name": "stdout"
        }
      ]
    },
    {
      "metadata": {
        "id": "smKc90hBirRs",
        "colab_type": "code",
        "colab": {}
      },
      "cell_type": "code",
      "source": [
        "DATA_DIR = \"drive/My Drive/Colab Notebooks/birds/data\""
      ],
      "execution_count": 0,
      "outputs": []
    },
    {
      "metadata": {
        "id": "I1T8tLXliFHy",
        "colab_type": "code",
        "colab": {}
      },
      "cell_type": "code",
      "source": [
        "import os"
      ],
      "execution_count": 0,
      "outputs": []
    },
    {
      "metadata": {
        "id": "ba4Z_bvDiRjM",
        "colab_type": "code",
        "outputId": "0122cdc6-53e8-449a-9867-4b1661d34d30",
        "colab": {
          "base_uri": "https://localhost:8080/",
          "height": 1476
        }
      },
      "cell_type": "code",
      "source": [
        "os.listdir(DATA_DIR)"
      ],
      "execution_count": 0,
      "outputs": [
        {
          "output_type": "execute_result",
          "data": {
            "text/plain": [
              "['Zaunkönig',\n",
              " 'Zwergschnäpper',\n",
              " 'Wanderfalke',\n",
              " 'Sumpfrohrsänger',\n",
              " 'Haubenmeise',\n",
              " 'Haussperling Spatz',\n",
              " 'Grünfink Grünling',\n",
              " 'Heckenbraunelle',\n",
              " 'Sperber',\n",
              " 'Goldammer',\n",
              " 'Gimpel Dompfaff',\n",
              " 'Girlitz',\n",
              " 'Dohle',\n",
              " 'Gartenrotschwanz',\n",
              " 'Neuntöter',\n",
              " 'Ringeltaube',\n",
              " 'Teichhuhn',\n",
              " 'Schilfrohrsänger',\n",
              " 'Haubenlerche',\n",
              " 'Buchfink',\n",
              " 'Trauerschnäpper',\n",
              " 'Hausrotschwanz',\n",
              " 'Gartenbaumläufer',\n",
              " 'Sumpfmeise',\n",
              " 'Eisvogel',\n",
              " 'Wintergoldhähnchen',\n",
              " 'Zwergtaucher',\n",
              " 'Waldkauz',\n",
              " 'Grauspecht',\n",
              " 'Reiherente',\n",
              " 'Rauchschwalbe',\n",
              " 'Tüpfelsumpfhuhn',\n",
              " 'Singdrossel',\n",
              " 'Mehlschwalbe',\n",
              " 'Höckerschwan',\n",
              " 'Saatkrähe',\n",
              " 'Baumfalke',\n",
              " 'Stockente',\n",
              " 'Kleiber',\n",
              " 'Teichrohrsänger',\n",
              " 'Birkenzeisig',\n",
              " 'Buntspecht',\n",
              " 'Rabenkrähe',\n",
              " 'Zeisig Erlenzeisig',\n",
              " 'Mittelspecht',\n",
              " 'Graureiher',\n",
              " 'Blässhuhn',\n",
              " 'Kohlmeise',\n",
              " 'Kleinspecht',\n",
              " 'Schwarzspecht',\n",
              " 'Hohltaube',\n",
              " 'Drosselrohrsänger',\n",
              " 'Rotkehlchen',\n",
              " 'Grünspecht',\n",
              " 'Mönchsgrasmücke',\n",
              " 'Eichelhäher',\n",
              " 'Kleines Sumpfhuhn',\n",
              " 'Elster',\n",
              " 'Zilpzalp',\n",
              " 'Haustaube',\n",
              " 'Wasserralle',\n",
              " 'Klappergrasmücke',\n",
              " 'Mauersegler',\n",
              " 'Pirol Vogel Bülow',\n",
              " 'Gemeiner Star',\n",
              " 'Gartengrasmücke',\n",
              " 'Fitis Laubsänger',\n",
              " 'Grauschnäpper',\n",
              " 'Turmfalke',\n",
              " 'Hänfling Bluthänfling',\n",
              " 'Nebelkrähe',\n",
              " 'Schwanzmeise',\n",
              " 'Mäusebussard',\n",
              " 'Bachstelze',\n",
              " 'Haubentaucher',\n",
              " 'Blaumeise',\n",
              " 'Tannenmeise',\n",
              " 'Sommergoldhähnchen',\n",
              " 'Zwergsumpfhuhn',\n",
              " 'Waldohreule',\n",
              " 'Wacholderdrossel',\n",
              " 'Nachtigall',\n",
              " 'Gelbspötter',\n",
              " 'Amsel Schwarzdrossel']"
            ]
          },
          "metadata": {
            "tags": []
          },
          "execution_count": 4
        }
      ]
    },
    {
      "metadata": {
        "id": "6is_OE9niS1T",
        "colab_type": "code",
        "outputId": "00ea5273-3278-4c73-d1d1-427ba43a765a",
        "colab": {
          "base_uri": "https://localhost:8080/",
          "height": 34
        }
      },
      "cell_type": "code",
      "source": [
        "import keras\n",
        "from keras import backend as K\n",
        "from keras.layers.core import Dense, Activation\n",
        "from keras.optimizers import Adam\n",
        "from keras.metrics import categorical_crossentropy\n",
        "from keras.preprocessing.image import ImageDataGenerator\n",
        "from keras.preprocessing import image\n",
        "from keras.models import Model\n",
        "from keras.applications import imagenet_utils\n",
        "from keras.layers import Dense,GlobalAveragePooling2D\n",
        "from keras.applications import MobileNet\n",
        "from keras.applications.mobilenet import preprocess_input\n",
        "import numpy as np\n",
        "from IPython.display import Image\n",
        "from keras.optimizers import Adam"
      ],
      "execution_count": 0,
      "outputs": [
        {
          "output_type": "stream",
          "text": [
            "Using TensorFlow backend.\n"
          ],
          "name": "stderr"
        }
      ]
    },
    {
      "metadata": {
        "id": "0p_bBmZli9Ya",
        "colab_type": "code",
        "colab": {}
      },
      "cell_type": "code",
      "source": [
        "mobile = keras.applications.mobilenet.MobileNet()"
      ],
      "execution_count": 0,
      "outputs": []
    },
    {
      "metadata": {
        "id": "re03q11ejC57",
        "colab_type": "code",
        "colab": {}
      },
      "cell_type": "code",
      "source": [
        "def prepare_image(file):\n",
        "    img_path = ''\n",
        "    img = image.load_img(img_path + file, target_size=(224, 224))\n",
        "    img_array = image.img_to_array(img)\n",
        "    img_array_expanded_dims = np.expand_dims(img_array, axis=0)\n",
        "    return keras.applications.mobilenet.preprocess_input(img_array_expanded_dims)"
      ],
      "execution_count": 0,
      "outputs": []
    },
    {
      "metadata": {
        "id": "kCDW_jHBjK3t",
        "colab_type": "code",
        "outputId": "0bcaa1ad-e351-466f-9f1b-f0a6a8ca00d7",
        "colab": {
          "base_uri": "https://localhost:8080/",
          "height": 106
        }
      },
      "cell_type": "code",
      "source": [
        "base_model=MobileNet(weights='imagenet',include_top=False) #imports the mobilenet model and discards the last 1000 neuron layer.\n",
        "\n",
        "x=base_model.output\n",
        "x=GlobalAveragePooling2D()(x)\n",
        "x=Dense(1024,activation='relu')(x) #we add dense layers so that the model can learn more complex functions and classify for better results.\n",
        "x=Dense(1024,activation='relu')(x) #dense layer 2\n",
        "x=Dense(512,activation='relu')(x) #dense layer 3\n",
        "preds=Dense(84,activation='softmax')(x) #final layer with softmax activation"
      ],
      "execution_count": 0,
      "outputs": [
        {
          "output_type": "stream",
          "text": [
            "/usr/local/lib/python3.6/dist-packages/keras_applications/mobilenet.py:208: UserWarning: MobileNet shape is undefined. Weights for input shape (224, 224) will be loaded.\n",
            "  warnings.warn('MobileNet shape is undefined.'\n"
          ],
          "name": "stderr"
        },
        {
          "output_type": "stream",
          "text": [
            "Downloading data from https://github.com/fchollet/deep-learning-models/releases/download/v0.6/mobilenet_1_0_224_tf_no_top.h5\n",
            "17227776/17225924 [==============================] - 12s 1us/step\n"
          ],
          "name": "stdout"
        }
      ]
    },
    {
      "metadata": {
        "id": "KgdKWFVTjSlv",
        "colab_type": "code",
        "colab": {}
      },
      "cell_type": "code",
      "source": [
        "model=Model(inputs=base_model.input,outputs=preds)\n",
        "#specify the inputs\n",
        "#specify the outputs\n",
        "#now a model has been created based on our architecture"
      ],
      "execution_count": 0,
      "outputs": []
    },
    {
      "metadata": {
        "id": "lgzD84y6jZP8",
        "colab_type": "code",
        "outputId": "9b7923a1-e5f1-438a-b259-05cdf5f618d8",
        "colab": {
          "base_uri": "https://localhost:8080/",
          "height": 3334
        }
      },
      "cell_type": "code",
      "source": [
        "model.summary()"
      ],
      "execution_count": 0,
      "outputs": [
        {
          "output_type": "stream",
          "text": [
            "_________________________________________________________________\n",
            "Layer (type)                 Output Shape              Param #   \n",
            "=================================================================\n",
            "input_2 (InputLayer)         (None, None, None, 3)     0         \n",
            "_________________________________________________________________\n",
            "conv1_pad (ZeroPadding2D)    (None, None, None, 3)     0         \n",
            "_________________________________________________________________\n",
            "conv1 (Conv2D)               (None, None, None, 32)    864       \n",
            "_________________________________________________________________\n",
            "conv1_bn (BatchNormalization (None, None, None, 32)    128       \n",
            "_________________________________________________________________\n",
            "conv1_relu (ReLU)            (None, None, None, 32)    0         \n",
            "_________________________________________________________________\n",
            "conv_dw_1 (DepthwiseConv2D)  (None, None, None, 32)    288       \n",
            "_________________________________________________________________\n",
            "conv_dw_1_bn (BatchNormaliza (None, None, None, 32)    128       \n",
            "_________________________________________________________________\n",
            "conv_dw_1_relu (ReLU)        (None, None, None, 32)    0         \n",
            "_________________________________________________________________\n",
            "conv_pw_1 (Conv2D)           (None, None, None, 64)    2048      \n",
            "_________________________________________________________________\n",
            "conv_pw_1_bn (BatchNormaliza (None, None, None, 64)    256       \n",
            "_________________________________________________________________\n",
            "conv_pw_1_relu (ReLU)        (None, None, None, 64)    0         \n",
            "_________________________________________________________________\n",
            "conv_pad_2 (ZeroPadding2D)   (None, None, None, 64)    0         \n",
            "_________________________________________________________________\n",
            "conv_dw_2 (DepthwiseConv2D)  (None, None, None, 64)    576       \n",
            "_________________________________________________________________\n",
            "conv_dw_2_bn (BatchNormaliza (None, None, None, 64)    256       \n",
            "_________________________________________________________________\n",
            "conv_dw_2_relu (ReLU)        (None, None, None, 64)    0         \n",
            "_________________________________________________________________\n",
            "conv_pw_2 (Conv2D)           (None, None, None, 128)   8192      \n",
            "_________________________________________________________________\n",
            "conv_pw_2_bn (BatchNormaliza (None, None, None, 128)   512       \n",
            "_________________________________________________________________\n",
            "conv_pw_2_relu (ReLU)        (None, None, None, 128)   0         \n",
            "_________________________________________________________________\n",
            "conv_dw_3 (DepthwiseConv2D)  (None, None, None, 128)   1152      \n",
            "_________________________________________________________________\n",
            "conv_dw_3_bn (BatchNormaliza (None, None, None, 128)   512       \n",
            "_________________________________________________________________\n",
            "conv_dw_3_relu (ReLU)        (None, None, None, 128)   0         \n",
            "_________________________________________________________________\n",
            "conv_pw_3 (Conv2D)           (None, None, None, 128)   16384     \n",
            "_________________________________________________________________\n",
            "conv_pw_3_bn (BatchNormaliza (None, None, None, 128)   512       \n",
            "_________________________________________________________________\n",
            "conv_pw_3_relu (ReLU)        (None, None, None, 128)   0         \n",
            "_________________________________________________________________\n",
            "conv_pad_4 (ZeroPadding2D)   (None, None, None, 128)   0         \n",
            "_________________________________________________________________\n",
            "conv_dw_4 (DepthwiseConv2D)  (None, None, None, 128)   1152      \n",
            "_________________________________________________________________\n",
            "conv_dw_4_bn (BatchNormaliza (None, None, None, 128)   512       \n",
            "_________________________________________________________________\n",
            "conv_dw_4_relu (ReLU)        (None, None, None, 128)   0         \n",
            "_________________________________________________________________\n",
            "conv_pw_4 (Conv2D)           (None, None, None, 256)   32768     \n",
            "_________________________________________________________________\n",
            "conv_pw_4_bn (BatchNormaliza (None, None, None, 256)   1024      \n",
            "_________________________________________________________________\n",
            "conv_pw_4_relu (ReLU)        (None, None, None, 256)   0         \n",
            "_________________________________________________________________\n",
            "conv_dw_5 (DepthwiseConv2D)  (None, None, None, 256)   2304      \n",
            "_________________________________________________________________\n",
            "conv_dw_5_bn (BatchNormaliza (None, None, None, 256)   1024      \n",
            "_________________________________________________________________\n",
            "conv_dw_5_relu (ReLU)        (None, None, None, 256)   0         \n",
            "_________________________________________________________________\n",
            "conv_pw_5 (Conv2D)           (None, None, None, 256)   65536     \n",
            "_________________________________________________________________\n",
            "conv_pw_5_bn (BatchNormaliza (None, None, None, 256)   1024      \n",
            "_________________________________________________________________\n",
            "conv_pw_5_relu (ReLU)        (None, None, None, 256)   0         \n",
            "_________________________________________________________________\n",
            "conv_pad_6 (ZeroPadding2D)   (None, None, None, 256)   0         \n",
            "_________________________________________________________________\n",
            "conv_dw_6 (DepthwiseConv2D)  (None, None, None, 256)   2304      \n",
            "_________________________________________________________________\n",
            "conv_dw_6_bn (BatchNormaliza (None, None, None, 256)   1024      \n",
            "_________________________________________________________________\n",
            "conv_dw_6_relu (ReLU)        (None, None, None, 256)   0         \n",
            "_________________________________________________________________\n",
            "conv_pw_6 (Conv2D)           (None, None, None, 512)   131072    \n",
            "_________________________________________________________________\n",
            "conv_pw_6_bn (BatchNormaliza (None, None, None, 512)   2048      \n",
            "_________________________________________________________________\n",
            "conv_pw_6_relu (ReLU)        (None, None, None, 512)   0         \n",
            "_________________________________________________________________\n",
            "conv_dw_7 (DepthwiseConv2D)  (None, None, None, 512)   4608      \n",
            "_________________________________________________________________\n",
            "conv_dw_7_bn (BatchNormaliza (None, None, None, 512)   2048      \n",
            "_________________________________________________________________\n",
            "conv_dw_7_relu (ReLU)        (None, None, None, 512)   0         \n",
            "_________________________________________________________________\n",
            "conv_pw_7 (Conv2D)           (None, None, None, 512)   262144    \n",
            "_________________________________________________________________\n",
            "conv_pw_7_bn (BatchNormaliza (None, None, None, 512)   2048      \n",
            "_________________________________________________________________\n",
            "conv_pw_7_relu (ReLU)        (None, None, None, 512)   0         \n",
            "_________________________________________________________________\n",
            "conv_dw_8 (DepthwiseConv2D)  (None, None, None, 512)   4608      \n",
            "_________________________________________________________________\n",
            "conv_dw_8_bn (BatchNormaliza (None, None, None, 512)   2048      \n",
            "_________________________________________________________________\n",
            "conv_dw_8_relu (ReLU)        (None, None, None, 512)   0         \n",
            "_________________________________________________________________\n",
            "conv_pw_8 (Conv2D)           (None, None, None, 512)   262144    \n",
            "_________________________________________________________________\n",
            "conv_pw_8_bn (BatchNormaliza (None, None, None, 512)   2048      \n",
            "_________________________________________________________________\n",
            "conv_pw_8_relu (ReLU)        (None, None, None, 512)   0         \n",
            "_________________________________________________________________\n",
            "conv_dw_9 (DepthwiseConv2D)  (None, None, None, 512)   4608      \n",
            "_________________________________________________________________\n",
            "conv_dw_9_bn (BatchNormaliza (None, None, None, 512)   2048      \n",
            "_________________________________________________________________\n",
            "conv_dw_9_relu (ReLU)        (None, None, None, 512)   0         \n",
            "_________________________________________________________________\n",
            "conv_pw_9 (Conv2D)           (None, None, None, 512)   262144    \n",
            "_________________________________________________________________\n",
            "conv_pw_9_bn (BatchNormaliza (None, None, None, 512)   2048      \n",
            "_________________________________________________________________\n",
            "conv_pw_9_relu (ReLU)        (None, None, None, 512)   0         \n",
            "_________________________________________________________________\n",
            "conv_dw_10 (DepthwiseConv2D) (None, None, None, 512)   4608      \n",
            "_________________________________________________________________\n",
            "conv_dw_10_bn (BatchNormaliz (None, None, None, 512)   2048      \n",
            "_________________________________________________________________\n",
            "conv_dw_10_relu (ReLU)       (None, None, None, 512)   0         \n",
            "_________________________________________________________________\n",
            "conv_pw_10 (Conv2D)          (None, None, None, 512)   262144    \n",
            "_________________________________________________________________\n",
            "conv_pw_10_bn (BatchNormaliz (None, None, None, 512)   2048      \n",
            "_________________________________________________________________\n",
            "conv_pw_10_relu (ReLU)       (None, None, None, 512)   0         \n",
            "_________________________________________________________________\n",
            "conv_dw_11 (DepthwiseConv2D) (None, None, None, 512)   4608      \n",
            "_________________________________________________________________\n",
            "conv_dw_11_bn (BatchNormaliz (None, None, None, 512)   2048      \n",
            "_________________________________________________________________\n",
            "conv_dw_11_relu (ReLU)       (None, None, None, 512)   0         \n",
            "_________________________________________________________________\n",
            "conv_pw_11 (Conv2D)          (None, None, None, 512)   262144    \n",
            "_________________________________________________________________\n",
            "conv_pw_11_bn (BatchNormaliz (None, None, None, 512)   2048      \n",
            "_________________________________________________________________\n",
            "conv_pw_11_relu (ReLU)       (None, None, None, 512)   0         \n",
            "_________________________________________________________________\n",
            "conv_pad_12 (ZeroPadding2D)  (None, None, None, 512)   0         \n",
            "_________________________________________________________________\n",
            "conv_dw_12 (DepthwiseConv2D) (None, None, None, 512)   4608      \n",
            "_________________________________________________________________\n",
            "conv_dw_12_bn (BatchNormaliz (None, None, None, 512)   2048      \n",
            "_________________________________________________________________\n",
            "conv_dw_12_relu (ReLU)       (None, None, None, 512)   0         \n",
            "_________________________________________________________________\n",
            "conv_pw_12 (Conv2D)          (None, None, None, 1024)  524288    \n",
            "_________________________________________________________________\n",
            "conv_pw_12_bn (BatchNormaliz (None, None, None, 1024)  4096      \n",
            "_________________________________________________________________\n",
            "conv_pw_12_relu (ReLU)       (None, None, None, 1024)  0         \n",
            "_________________________________________________________________\n",
            "conv_dw_13 (DepthwiseConv2D) (None, None, None, 1024)  9216      \n",
            "_________________________________________________________________\n",
            "conv_dw_13_bn (BatchNormaliz (None, None, None, 1024)  4096      \n",
            "_________________________________________________________________\n",
            "conv_dw_13_relu (ReLU)       (None, None, None, 1024)  0         \n",
            "_________________________________________________________________\n",
            "conv_pw_13 (Conv2D)          (None, None, None, 1024)  1048576   \n",
            "_________________________________________________________________\n",
            "conv_pw_13_bn (BatchNormaliz (None, None, None, 1024)  4096      \n",
            "_________________________________________________________________\n",
            "conv_pw_13_relu (ReLU)       (None, None, None, 1024)  0         \n",
            "_________________________________________________________________\n",
            "global_average_pooling2d_2 ( (None, 1024)              0         \n",
            "_________________________________________________________________\n",
            "dense_1 (Dense)              (None, 1024)              1049600   \n",
            "_________________________________________________________________\n",
            "dense_2 (Dense)              (None, 1024)              1049600   \n",
            "_________________________________________________________________\n",
            "dense_3 (Dense)              (None, 512)               524800    \n",
            "_________________________________________________________________\n",
            "dense_4 (Dense)              (None, 84)                43092     \n",
            "=================================================================\n",
            "Total params: 5,895,956\n",
            "Trainable params: 5,874,068\n",
            "Non-trainable params: 21,888\n",
            "_________________________________________________________________\n"
          ],
          "name": "stdout"
        }
      ]
    },
    {
      "metadata": {
        "id": "JCKckQh6jbdw",
        "colab_type": "code",
        "colab": {}
      },
      "cell_type": "code",
      "source": [
        "for layer in model.layers:\n",
        "    layer.trainable=False\n",
        "# or if we want to set the first 20 layers of the network to be non-trainable\n",
        "for layer in model.layers[:20]:\n",
        "    layer.trainable=False\n",
        "for layer in model.layers[20:]:\n",
        "    layer.trainable=True"
      ],
      "execution_count": 0,
      "outputs": []
    },
    {
      "metadata": {
        "id": "UwmsSAGmjfZ-",
        "colab_type": "code",
        "colab": {}
      },
      "cell_type": "code",
      "source": [
        "train_datagen=ImageDataGenerator(preprocessing_function=preprocess_input) #included in our dependencies"
      ],
      "execution_count": 0,
      "outputs": []
    },
    {
      "metadata": {
        "id": "Ble_U2vOjicv",
        "colab_type": "code",
        "outputId": "dcf48265-f0ae-4b9b-b135-11c6c1c16abb",
        "colab": {
          "base_uri": "https://localhost:8080/",
          "height": 34
        }
      },
      "cell_type": "code",
      "source": [
        "train_generator=train_datagen.flow_from_directory(DATA_DIR,\n",
        "                                                 target_size=(224,224),\n",
        "                                                 color_mode='rgb',\n",
        "                                                 batch_size=32,\n",
        "                                                 class_mode='categorical',\n",
        "                                                 shuffle=True)"
      ],
      "execution_count": 0,
      "outputs": [
        {
          "output_type": "stream",
          "text": [
            "Found 7730 images belonging to 84 classes.\n"
          ],
          "name": "stdout"
        }
      ]
    },
    {
      "metadata": {
        "id": "1jRQXwCxjlgt",
        "colab_type": "code",
        "colab": {}
      },
      "cell_type": "code",
      "source": [
        "model.compile(optimizer='Adam',loss='categorical_crossentropy',metrics=['accuracy'])"
      ],
      "execution_count": 0,
      "outputs": []
    },
    {
      "metadata": {
        "id": "RR60N8kljsYt",
        "colab_type": "code",
        "outputId": "83acc0f4-2c38-4098-db10-6b2d1e457551",
        "colab": {
          "base_uri": "https://localhost:8080/",
          "height": 732
        }
      },
      "cell_type": "code",
      "source": [
        "step_size_train=train_generator.n//train_generator.batch_size\n",
        "model.fit_generator(generator=train_generator,\n",
        "                   steps_per_epoch=step_size_train,\n",
        "                   epochs=15)"
      ],
      "execution_count": 0,
      "outputs": [
        {
          "output_type": "stream",
          "text": [
            "WARNING:tensorflow:From /usr/local/lib/python3.6/dist-packages/tensorflow/python/ops/math_ops.py:3066: to_int32 (from tensorflow.python.ops.math_ops) is deprecated and will be removed in a future version.\n",
            "Instructions for updating:\n",
            "Use tf.cast instead.\n",
            "Epoch 1/15\n",
            " 41/241 [====>.........................] - ETA: 33:20 - loss: 4.1552 - acc: 0.0640"
          ],
          "name": "stdout"
        },
        {
          "output_type": "stream",
          "text": [
            "/usr/local/lib/python3.6/dist-packages/PIL/TiffImagePlugin.py:709: UserWarning: Corrupt EXIF data.  Expecting to read 4 bytes but only got 0. \n",
            "  warnings.warn(str(msg))\n"
          ],
          "name": "stderr"
        },
        {
          "output_type": "stream",
          "text": [
            "140/241 [================>.............] - ETA: 16:52 - loss: 3.5067 - acc: 0.1475"
          ],
          "name": "stdout"
        },
        {
          "output_type": "stream",
          "text": [
            "/usr/local/lib/python3.6/dist-packages/PIL/TiffImagePlugin.py:692: UserWarning: Possibly corrupt EXIF data.  Expecting to read 4718592 bytes but only got 0. Skipping tag 0\n",
            "  \"Skipping tag %s\" % (size, len(data), tag))\n",
            "/usr/local/lib/python3.6/dist-packages/PIL/TiffImagePlugin.py:692: UserWarning: Possibly corrupt EXIF data.  Expecting to read 2284257280 bytes but only got 0. Skipping tag 0\n",
            "  \"Skipping tag %s\" % (size, len(data), tag))\n"
          ],
          "name": "stderr"
        },
        {
          "output_type": "stream",
          "text": [
            "241/241 [==============================] - 2395s 10s/step - loss: 3.1499 - acc: 0.1981\n",
            "Epoch 2/15\n",
            "241/241 [==============================] - 225s 933ms/step - loss: 2.1034 - acc: 0.4108\n",
            "Epoch 3/15\n",
            "241/241 [==============================] - 221s 915ms/step - loss: 1.6341 - acc: 0.5265\n",
            "Epoch 4/15\n",
            "241/241 [==============================] - 220s 914ms/step - loss: 1.3473 - acc: 0.6026\n",
            "Epoch 5/15\n",
            "241/241 [==============================] - 220s 911ms/step - loss: 1.0788 - acc: 0.6824\n",
            "Epoch 6/15\n",
            "241/241 [==============================] - 222s 919ms/step - loss: 0.9548 - acc: 0.7233\n",
            "Epoch 7/15\n",
            "241/241 [==============================] - 219s 910ms/step - loss: 0.8189 - acc: 0.7573\n",
            "Epoch 8/15\n",
            "241/241 [==============================] - 218s 906ms/step - loss: 0.6950 - acc: 0.7921\n",
            "Epoch 9/15\n",
            "241/241 [==============================] - 220s 913ms/step - loss: 0.6472 - acc: 0.8043\n",
            "Epoch 10/15\n",
            "241/241 [==============================] - 223s 925ms/step - loss: 0.5884 - acc: 0.8251\n",
            "Epoch 11/15\n",
            "241/241 [==============================] - 220s 913ms/step - loss: 0.5534 - acc: 0.8396\n",
            "Epoch 12/15\n",
            "241/241 [==============================] - 221s 915ms/step - loss: 0.4709 - acc: 0.8631\n",
            "Epoch 13/15\n",
            "241/241 [==============================] - 221s 917ms/step - loss: 0.4439 - acc: 0.8653\n",
            "Epoch 14/15\n",
            "241/241 [==============================] - 222s 923ms/step - loss: 0.3927 - acc: 0.8872\n",
            "Epoch 15/15\n",
            "241/241 [==============================] - 223s 924ms/step - loss: 0.3926 - acc: 0.8902\n"
          ],
          "name": "stdout"
        },
        {
          "output_type": "execute_result",
          "data": {
            "text/plain": [
              "<keras.callbacks.History at 0x7ff9ce80fd68>"
            ]
          },
          "metadata": {
            "tags": []
          },
          "execution_count": 15
        }
      ]
    },
    {
      "metadata": {
        "id": "ZL7WkyCcjxCk",
        "colab_type": "code",
        "colab": {}
      },
      "cell_type": "code",
      "source": [
        "model.save_weights(\"drive/My Drive/Colab Notebooks/birds/mobilenet.h5\")"
      ],
      "execution_count": 0,
      "outputs": []
    },
    {
      "metadata": {
        "id": "nTkqIbewntEF",
        "colab_type": "code",
        "colab": {}
      },
      "cell_type": "code",
      "source": [
        "def load_image(img_path, show=False):\n",
        "\n",
        "    img = image.load_img(img_path, target_size=(150, 150))\n",
        "    img_tensor = image.img_to_array(img)                    # (height, width, channels)\n",
        "    img_tensor = np.expand_dims(img_tensor, axis=0)         # (1, height, width, channels), add a dimension because the model expects this shape: (batch_size, height, width, channels)\n",
        "    img_tensor /= 255.                                      # imshow expects values in the range [0, 1]\n",
        "\n",
        "    if show:\n",
        "        plt.imshow(img_tensor[0])                           \n",
        "        plt.axis('off')\n",
        "        plt.show()\n",
        "\n",
        "    return img_tensor\n",
        "\n",
        "  \n",
        "\n",
        "\n"
      ],
      "execution_count": 0,
      "outputs": []
    },
    {
      "metadata": {
        "id": "QrXfGH_Jn-Xq",
        "colab_type": "code",
        "colab": {}
      },
      "cell_type": "code",
      "source": [
        "img_path = 'drive/My Drive/Colab Notebooks/birds/test/Schwanzmeise/schwanzmeise_1204610_57923342.jpg'\n",
        "new_image = prepare_image(img_path)\n",
        "\n"
      ],
      "execution_count": 0,
      "outputs": []
    },
    {
      "metadata": {
        "id": "laNPNeLG2owX",
        "colab_type": "code",
        "colab": {}
      },
      "cell_type": "code",
      "source": [
        "y_prob = model.predict(new_image)\n",
        "y_classes = y_prob.argmax(axis=-1)"
      ],
      "execution_count": 0,
      "outputs": []
    },
    {
      "metadata": {
        "id": "mo2XxD3DMcAY",
        "colab_type": "code",
        "colab": {
          "base_uri": "https://localhost:8080/",
          "height": 399
        },
        "outputId": "276ce514-3e5e-4e33-cb2e-25f4b2f6acb2"
      },
      "cell_type": "code",
      "source": [
        "y_prob"
      ],
      "execution_count": 80,
      "outputs": [
        {
          "output_type": "execute_result",
          "data": {
            "text/plain": [
              "array([[1.87776692e-03, 8.68186122e-04, 2.07542635e-05, 2.74556398e-04,\n",
              "        3.18712384e-01, 1.22291315e-03, 1.56753689e-01, 2.46160082e-04,\n",
              "        6.17516343e-04, 4.03260310e-05, 1.05382560e-03, 1.60973432e-04,\n",
              "        2.96752015e-03, 3.49598820e-04, 2.89365962e-05, 2.09866744e-03,\n",
              "        1.07855812e-01, 4.41219250e-04, 6.92691712e-04, 9.08845738e-02,\n",
              "        6.89323933e-05, 3.61528146e-05, 7.13358750e-05, 1.95674875e-04,\n",
              "        1.80324074e-03, 5.38304634e-03, 3.21668951e-04, 1.80464103e-05,\n",
              "        1.00877825e-02, 4.50985826e-04, 2.95904689e-02, 1.08625926e-03,\n",
              "        3.23992153e-03, 3.68670764e-04, 1.66961792e-04, 3.68564646e-03,\n",
              "        6.10370596e-04, 1.03670813e-03, 2.31657759e-03, 6.57511083e-03,\n",
              "        3.19114450e-04, 2.29063649e-02, 1.60033902e-04, 1.90455994e-05,\n",
              "        3.57925193e-04, 3.03497706e-02, 3.89704742e-02, 8.69863085e-04,\n",
              "        1.74559199e-03, 6.69944930e-05, 1.59774115e-03, 3.79160338e-04,\n",
              "        2.51871091e-03, 2.91734643e-04, 1.49517285e-03, 9.89833288e-03,\n",
              "        3.62380742e-05, 1.57666727e-04, 1.28649059e-03, 1.47713843e-04,\n",
              "        2.70912042e-05, 2.51873136e-02, 3.05236972e-05, 2.81802728e-04,\n",
              "        1.55430175e-02, 1.59782183e-03, 8.93456768e-03, 2.45901775e-02,\n",
              "        5.02905517e-04, 1.10260281e-03, 2.28257136e-06, 7.49029423e-05,\n",
              "        3.93957511e-04, 7.13610498e-05, 1.23474063e-04, 3.65469969e-05,\n",
              "        2.83192238e-03, 1.95932109e-02, 1.54775083e-02, 2.30823155e-03,\n",
              "        4.43623634e-03, 5.57057839e-03, 1.63618277e-03, 1.79002807e-03]],\n",
              "      dtype=float32)"
            ]
          },
          "metadata": {
            "tags": []
          },
          "execution_count": 80
        }
      ]
    },
    {
      "metadata": {
        "id": "bgpLD1G9GGXf",
        "colab_type": "code",
        "colab": {}
      },
      "cell_type": "code",
      "source": [
        "predicted_label = sorted(labels)[y_classes[0]]"
      ],
      "execution_count": 0,
      "outputs": []
    },
    {
      "metadata": {
        "id": "OnlUm8DgNEmj",
        "colab_type": "code",
        "colab": {
          "base_uri": "https://localhost:8080/",
          "height": 868
        },
        "outputId": "c5b16ebd-8bcb-46dc-9434-6a55d1f1bb03"
      },
      "cell_type": "code",
      "source": [
        "new_image"
      ],
      "execution_count": 82,
      "outputs": [
        {
          "output_type": "execute_result",
          "data": {
            "text/plain": [
              "array([[[[ 0.6862745 ,  0.77254903,  0.2313726 ],\n",
              "         [ 0.67058825,  0.77254903,  0.15294123],\n",
              "         [ 0.6627451 ,  0.75686276,  0.16078436],\n",
              "         ...,\n",
              "         [ 0.41960788,  0.58431375,  0.12156868],\n",
              "         [ 0.45882356,  0.6313726 ,  0.12941182],\n",
              "         [ 0.5058824 ,  0.6627451 ,  0.20000005]],\n",
              "\n",
              "        [[ 0.69411767,  0.78039217,  0.26274514],\n",
              "         [ 0.6784314 ,  0.77254903,  0.20784318],\n",
              "         [ 0.6627451 ,  0.75686276,  0.16078436],\n",
              "         ...,\n",
              "         [ 0.48235297,  0.64705884,  0.20000005],\n",
              "         [ 0.45882356,  0.6313726 ,  0.14509809],\n",
              "         [ 0.4901961 ,  0.654902  ,  0.19215691]],\n",
              "\n",
              "        [[ 0.69411767,  0.78039217,  0.26274514],\n",
              "         [ 0.6784314 ,  0.77254903,  0.19215691],\n",
              "         [ 0.654902  ,  0.75686276,  0.13725495],\n",
              "         ...,\n",
              "         [ 0.427451  ,  0.58431375,  0.10588241],\n",
              "         [ 0.45098042,  0.60784316,  0.11372554],\n",
              "         [ 0.4901961 ,  0.6627451 ,  0.17647064]],\n",
              "\n",
              "        ...,\n",
              "\n",
              "        [[ 0.27843142,  0.5058824 , -0.62352943],\n",
              "         [ 0.27058828,  0.52156866, -0.75686276],\n",
              "         [ 0.24705887,  0.5137255 , -0.73333335],\n",
              "         ...,\n",
              "         [ 0.67058825,  0.6392157 ,  0.4431373 ],\n",
              "         [ 0.67058825,  0.6627451 ,  0.4431373 ],\n",
              "         [ 0.69411767,  0.6784314 ,  0.48235297]],\n",
              "\n",
              "        [[ 0.27843142,  0.5058824 , -0.62352943],\n",
              "         [ 0.2313726 ,  0.4901961 , -0.6784314 ],\n",
              "         [ 0.17647064,  0.45882356, -0.8745098 ],\n",
              "         ...,\n",
              "         [ 0.60784316,  0.6       ,  0.4431373 ],\n",
              "         [ 0.64705884,  0.654902  ,  0.41176474],\n",
              "         [ 0.6784314 ,  0.6627451 ,  0.4666667 ]],\n",
              "\n",
              "        [[ 0.19215691,  0.4431373 , -0.6       ],\n",
              "         [ 0.18431377,  0.4431373 , -0.6784314 ],\n",
              "         [ 0.14509809,  0.4039216 , -0.7019608 ],\n",
              "         ...,\n",
              "         [ 0.56078434,  0.58431375,  0.5294118 ],\n",
              "         [ 0.6313726 ,  0.6313726 ,  0.41176474],\n",
              "         [ 0.67058825,  0.6627451 ,  0.4431373 ]]]], dtype=float32)"
            ]
          },
          "metadata": {
            "tags": []
          },
          "execution_count": 82
        }
      ]
    },
    {
      "metadata": {
        "id": "m4YnMBfEFlwA",
        "colab_type": "code",
        "outputId": "c4dfe4f5-d784-49c2-ecce-6783f8c667c1",
        "colab": {
          "base_uri": "https://localhost:8080/",
          "height": 34
        }
      },
      "cell_type": "code",
      "source": [
        "predicted_label"
      ],
      "execution_count": 83,
      "outputs": [
        {
          "output_type": "execute_result",
          "data": {
            "text/plain": [
              "'Blaumeise'"
            ]
          },
          "metadata": {
            "tags": []
          },
          "execution_count": 83
        }
      ]
    },
    {
      "metadata": {
        "id": "wS3_ByNwHey1",
        "colab_type": "code",
        "colab": {}
      },
      "cell_type": "code",
      "source": [
        ""
      ],
      "execution_count": 0,
      "outputs": []
    }
  ]
}