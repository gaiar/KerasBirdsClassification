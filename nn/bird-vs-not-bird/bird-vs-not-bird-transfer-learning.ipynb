{
 "cells": [
  {
   "cell_type": "markdown",
   "metadata": {},
   "source": [
    "# Import dependencies"
   ]
  },
  {
   "cell_type": "code",
   "execution_count": null,
   "metadata": {},
   "outputs": [],
   "source": [
    "from comet_ml import Experiment"
   ]
  },
  {
   "cell_type": "code",
   "execution_count": null,
   "metadata": {},
   "outputs": [],
   "source": [
    "%matplotlib inline"
   ]
  },
  {
   "cell_type": "code",
   "execution_count": null,
   "metadata": {},
   "outputs": [],
   "source": [
    "import os\n",
    "import warnings\n",
    "import glob"
   ]
  },
  {
   "cell_type": "code",
   "execution_count": null,
   "metadata": {},
   "outputs": [],
   "source": [
    "import numpy as np\n",
    "import matplotlib.pyplot as plt\n",
    "import matplotlib.image as mpimg\n",
    "import random\n",
    "from keras.preprocessing.image import (\n",
    "    ImageDataGenerator,\n",
    "    load_img,\n",
    "    img_to_array,\n",
    "    array_to_img,\n",
    ")"
   ]
  },
  {
   "cell_type": "code",
   "execution_count": null,
   "metadata": {},
   "outputs": [],
   "source": [
    "import keras\n",
    "from keras import backend as K\n",
    "from keras.layers.core import Dense, Activation\n",
    "from keras.optimizers import Adam\n",
    "from keras.metrics import categorical_crossentropy\n",
    "from keras.preprocessing.image import ImageDataGenerator\n",
    "from keras.preprocessing import image\n",
    "from keras.models import Model\n",
    "from keras.applications import imagenet_utils\n",
    "from keras.layers import Dense, GlobalAveragePooling2D\n",
    "from keras.applications import MobileNet\n",
    "from keras.applications.mobilenet import preprocess_input\n",
    "from keras import callbacks\n",
    "from keras.callbacks import EarlyStopping\n",
    "\n",
    "import numpy as np\n",
    "from IPython.display import Image"
   ]
  },
  {
   "cell_type": "markdown",
   "metadata": {},
   "source": [
    "# Main variables"
   ]
  },
  {
   "cell_type": "code",
   "execution_count": null,
   "metadata": {},
   "outputs": [],
   "source": [
    "DATA_DIR = \"dataset\"\n",
    "MODELS_DIR = \"models\""
   ]
  },
  {
   "cell_type": "code",
   "execution_count": null,
   "metadata": {},
   "outputs": [],
   "source": [
    "params = {}\n",
    "\n",
    "\n",
    "params[\"batch_size\"] = 96\n",
    "params[\"num_classes\"] = 2\n",
    "params[\"epochs\"] = 10\n",
    "params[\"optimizer\"] = \"adam\"\n",
    "params[\"activation\"] = \"relu\"\n",
    "params[\"validation_split\"] = 0.2\n",
    "params[\"lr\"] = 1e-3\n",
    "params[\"kernel_initializer\"] = \"he_uniform\"\n",
    "params[\"fine-tuning\"] = False\n",
    "params[\"fine-tune-at\"] = 20"
   ]
  },
  {
   "cell_type": "markdown",
   "metadata": {},
   "source": [
    "# Review the data"
   ]
  },
  {
   "cell_type": "code",
   "execution_count": null,
   "metadata": {},
   "outputs": [],
   "source": [
    "img_list = glob.glob(os.path.join(DATA_DIR,\"*/*/*.jpg\"))\n",
    "print(len(img_list))"
   ]
  },
  {
   "cell_type": "code",
   "execution_count": null,
   "metadata": {},
   "outputs": [],
   "source": [
    "fig = plt.gcf()\n",
    "fig.set_size_inches(15,10)\n",
    "for i, img_path in enumerate(random.sample(img_list, 15)):\n",
    "    img = image.load_img(img_path, target_size=(224, 224))\n",
    "    img = image.img_to_array(img, dtype=np.uint8)\n",
    "\n",
    "    plt.subplot(3, 5, i + 1)\n",
    "    plt.imshow(img.squeeze())"
   ]
  },
  {
   "cell_type": "markdown",
   "metadata": {},
   "source": [
    "# Define the network"
   ]
  },
  {
   "cell_type": "code",
   "execution_count": null,
   "metadata": {},
   "outputs": [],
   "source": [
    "def get_model(params):\n",
    "    base_model = MobileNet(\n",
    "        weights=\"imagenet\", include_top=False\n",
    "    )  # imports the mobilenet model and discards the last 1000 neuron layer.\n",
    "\n",
    "    for layer in base_model.layers:\n",
    "        layer.trainable = params[\"fine-tuning\"]\n",
    "    \n",
    "    x = base_model.output\n",
    "    x = GlobalAveragePooling2D()(x)\n",
    "    x = Dense(1024, activation=params[\"activation\"])(\n",
    "        x\n",
    "    )  # we add dense layers so that the model can learn more complex functions and classify for better results.\n",
    "    x = Dense(1024, activation=params[\"activation\"])(x)  # dense layer 2\n",
    "    x = Dense(512, activation=params[\"activation\"])(x)  # dense layer 3\n",
    "    \n",
    "    preds = Dense(params[\"num_classes\"], activation=\"softmax\")(\n",
    "        x\n",
    "    )  # final layer with softmax activation\n",
    "\n",
    "    model = Model(inputs=base_model.input, outputs=preds)\n",
    "\n",
    "    if params[\"fine-tuning\"]:\n",
    "        # or if we want to set the first 20 layers of the network to be non-trainable\n",
    "        for layer in model.layers[:params[\"fine-tune-at\"]]:\n",
    "            layer.trainable = False\n",
    "        for layer in model.layers[params[\"fine-tune-at\"]:]:\n",
    "            layer.trainable = True\n",
    "\n",
    "    return model\n",
    "\n",
    "\n",
    "\n",
    "model = get_model(params)"
   ]
  },
  {
   "cell_type": "code",
   "execution_count": null,
   "metadata": {},
   "outputs": [],
   "source": [
    "model.summary()"
   ]
  },
  {
   "cell_type": "code",
   "execution_count": null,
   "metadata": {},
   "outputs": [],
   "source": [
    "train_datagen = ImageDataGenerator(\n",
    "    preprocessing_function=preprocess_input,\n",
    "    rescale=1.0 / 255,\n",
    "    shear_range=0.2,\n",
    "    zoom_range=0.2,\n",
    "    horizontal_flip=True,\n",
    "    width_shift_range=0.1,\n",
    "    height_shift_range=0.1,\n",
    ")  # included in our dependencies\n",
    "\n",
    "valid_datagen = ImageDataGenerator(\n",
    "    rescale=1.0 / 255, \n",
    "    preprocessing_function=preprocess_input\n",
    ")\n",
    "\n",
    "train_generator = train_datagen.flow_from_directory(\n",
    "    DATA_DIR + \"/train\",\n",
    "    target_size=(224, 224),\n",
    "    color_mode=\"rgb\",\n",
    "    batch_size=params[\"batch_size\"],\n",
    "    class_mode=\"categorical\",\n",
    "    shuffle=True,\n",
    ")\n",
    "\n",
    "validation_generator = valid_datagen.flow_from_directory(\n",
    "    DATA_DIR + \"/valid\",\n",
    "    target_size=(224, 224),\n",
    "    color_mode=\"rgb\",\n",
    "    batch_size=params[\"batch_size\"],\n",
    "    class_mode=\"categorical\",\n",
    "    shuffle=True,\n",
    ")"
   ]
  },
  {
   "cell_type": "code",
   "execution_count": null,
   "metadata": {},
   "outputs": [],
   "source": [
    "labels = train_generator.class_indices\n",
    "labels = dict((v, k) for k, v in labels.items())"
   ]
  },
  {
   "cell_type": "code",
   "execution_count": null,
   "metadata": {},
   "outputs": [],
   "source": [
    "model.compile(\n",
    "    optimizer=params[\"optimizer\"], loss=\"categorical_crossentropy\", metrics=[\"accuracy\"]\n",
    ")\n",
    "\n",
    "experiment = Experiment(project_name=\"bird-vs-not-bird\",api_key=\"vXmIzDFObhyfUYzH4JUg8rOQp\")\n",
    "# log parameters in Comet.ml\n",
    "experiment.log_parameters(params)"
   ]
  },
  {
   "cell_type": "markdown",
   "metadata": {},
   "source": [
    "# Setup callbacks "
   ]
  },
  {
   "cell_type": "code",
   "execution_count": null,
   "metadata": {},
   "outputs": [],
   "source": [
    "log = callbacks.CSVLogger(os.path.join(MODELS_DIR, \"bird-vs-not-bird-log.csv\"))\n",
    "\n",
    "checkpoint = callbacks.ModelCheckpoint(\n",
    "    os.path.join(MODELS_DIR, \"bird-vs-not-bird-weights-{epoch:02d}.h5\"),\n",
    "    save_best_only=True,\n",
    "    save_weights_only=True,\n",
    "    verbose=1,\n",
    ")\n",
    "\n",
    "lr_decay = callbacks.LearningRateScheduler(\n",
    "    schedule=lambda epoch: params[\"lr\"] * (0.9 ** epoch)\n",
    ")\n",
    "\n",
    "early_stopping = EarlyStopping(\n",
    "    monitor=\"val_loss\", min_delta=1e-4, patience=5, verbose=1, mode=\"auto\"\n",
    ")"
   ]
  },
  {
   "cell_type": "markdown",
   "metadata": {},
   "source": [
    "# Train the model"
   ]
  },
  {
   "cell_type": "code",
   "execution_count": null,
   "metadata": {},
   "outputs": [],
   "source": [
    "warnings.filterwarnings(\"ignore\", \"(Possibly )?corrupt EXIF data\", UserWarning)"
   ]
  },
  {
   "cell_type": "code",
   "execution_count": null,
   "metadata": {},
   "outputs": [],
   "source": [
    "with experiment.train():\n",
    "    step_size_train = train_generator.samples // params[\"batch_size\"]\n",
    "    history = model.fit_generator(\n",
    "        generator=train_generator,\n",
    "        validation_data=validation_generator,\n",
    "        validation_steps=validation_generator.samples // params[\"batch_size\"],\n",
    "        steps_per_epoch=step_size_train,\n",
    "        epochs=params[\"epochs\"],\n",
    "        verbose=1,\n",
    "        callbacks=[log, checkpoint, lr_decay],\n",
    "        use_multiprocessing=True,\n",
    "        workers=7,\n",
    "    )\n",
    "\n",
    "model.save_weights(os.path.join(MODELS_DIR, \"mobilenet.bird-vs-not-bird.generic.h5\"))\n",
    "\n",
    "#experiment.end()"
   ]
  },
  {
   "cell_type": "markdown",
   "metadata": {},
   "source": [
    "# Review the results of initial model"
   ]
  },
  {
   "cell_type": "code",
   "execution_count": null,
   "metadata": {},
   "outputs": [],
   "source": [
    "acc = history.history['acc']\n",
    "val_acc = history.history['val_acc']\n",
    "\n",
    "loss = history.history['loss']\n",
    "val_loss = history.history['val_loss']\n",
    "\n",
    "plt.figure(figsize=(8, 8))\n",
    "plt.subplot(2, 1, 1)\n",
    "plt.plot(acc, label='Training Accuracy')\n",
    "plt.plot(val_acc, label='Validation Accuracy')\n",
    "plt.legend(loc='lower right')\n",
    "plt.ylabel('Accuracy')\n",
    "plt.ylim([min(plt.ylim()),1])\n",
    "plt.title('Training and Validation Accuracy')\n",
    "\n",
    "plt.subplot(2, 1, 2)\n",
    "plt.plot(loss, label='Training Loss')\n",
    "plt.plot(val_loss, label='Validation Loss')\n",
    "plt.legend(loc='upper right')\n",
    "plt.ylabel('Cross Entropy')\n",
    "plt.ylim([0,max(plt.ylim())])\n",
    "plt.title('Training and Validation Loss')\n",
    "plt.show()"
   ]
  },
  {
   "cell_type": "markdown",
   "metadata": {},
   "source": [
    "# Fine-tuning the model"
   ]
  },
  {
   "cell_type": "code",
   "execution_count": null,
   "metadata": {},
   "outputs": [],
   "source": [
    "params[\"fine-tuning\"] = True\n",
    "\n",
    "\n",
    "model = get_model(params)\n",
    "\n",
    "experiment.log_parameters(params)\n",
    "\n",
    "# Let's take a look to see how many layers are in the base model\n",
    "#print(\"Number of layers in the base model: \", len(base_model.layers))\n",
    "\n",
    "\n",
    "# Fine tune from this layer onwards\n",
    "#fine_tune_at = 100\n",
    "\n",
    "# Freeze all the layers before the `fine_tune_at` layer\n",
    "#for layer in base_model.layers[:fine_tune_at]:\n",
    "#  layer.trainable =  False"
   ]
  },
  {
   "cell_type": "code",
   "execution_count": null,
   "metadata": {},
   "outputs": [],
   "source": [
    "model.compile(loss='binary_crossentropy',\n",
    "              optimizer = tf.keras.optimizers.RMSprop(lr=2e-5),\n",
    "              metrics=['accuracy'])\n",
    "model.summary()"
   ]
  },
  {
   "cell_type": "code",
   "execution_count": null,
   "metadata": {},
   "outputs": [],
   "source": [
    "with experiment.train():\n",
    "    step_size_train = train_generator.samples // params[\"batch_size\"]\n",
    "    history_fine = model.fit_generator(\n",
    "        generator=train_generator,\n",
    "        validation_data=validation_generator,\n",
    "        validation_steps=validation_generator.samples // params[\"batch_size\"],\n",
    "        steps_per_epoch=step_size_train,\n",
    "        epochs=params[\"epochs\"],\n",
    "        verbose=1,\n",
    "        callbacks=[log, checkpoint, lr_decay],\n",
    "        use_multiprocessing=True,\n",
    "        workers=7,\n",
    "    )\n",
    "\n",
    "model.save_weights(os.path.join(MODELS_DIR, \"mobilenet.bird-vs-not-bird.fine-tune.h5\"))\n",
    "\n",
    "experiment.end()"
   ]
  },
  {
   "cell_type": "markdown",
   "metadata": {},
   "source": [
    "# Review the results of fine-tuned model"
   ]
  },
  {
   "cell_type": "code",
   "execution_count": null,
   "metadata": {},
   "outputs": [],
   "source": [
    "acc += history_fine.history['acc']\n",
    "val_acc += history_fine.history['val_acc']\n",
    "\n",
    "loss += history_fine.history['loss']\n",
    "val_loss += history_fine.history['val_loss']"
   ]
  },
  {
   "cell_type": "code",
   "execution_count": null,
   "metadata": {},
   "outputs": [],
   "source": [
    "plt.figure(figsize=(8, 8))\n",
    "plt.subplot(2, 1, 1)\n",
    "plt.plot(acc, label='Training Accuracy')\n",
    "plt.plot(val_acc, label='Validation Accuracy')\n",
    "plt.ylim([0.9, 1])\n",
    "plt.plot([epochs-1,epochs-1], plt.ylim(), label='Start Fine Tuning')\n",
    "plt.legend(loc='lower right')\n",
    "plt.title('Training and Validation Accuracy')\n",
    "\n",
    "plt.subplot(2, 1, 2)\n",
    "plt.plot(loss, label='Training Loss')\n",
    "plt.plot(val_loss, label='Validation Loss')\n",
    "plt.ylim([0, 0.2])\n",
    "plt.plot([epochs-1,epochs-1], plt.ylim(), label='Start Fine Tuning')\n",
    "plt.legend(loc='upper right')\n",
    "plt.title('Training and Validation Loss')\n",
    "plt.show()"
   ]
  }
 ],
 "metadata": {
  "kernelspec": {
   "display_name": "Python 3",
   "language": "python",
   "name": "python3"
  },
  "language_info": {
   "codemirror_mode": {
    "name": "ipython",
    "version": 3
   },
   "file_extension": ".py",
   "mimetype": "text/x-python",
   "name": "python",
   "nbconvert_exporter": "python",
   "pygments_lexer": "ipython3",
   "version": "3.6.7"
  }
 },
 "nbformat": 4,
 "nbformat_minor": 2
}
